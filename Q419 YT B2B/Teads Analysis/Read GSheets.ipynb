{
 "cells": [
  {
   "cell_type": "code",
   "execution_count": 1,
   "metadata": {},
   "outputs": [],
   "source": [
    "import numpy as np\n",
    "import pandas as pd\n",
    "from statsmodels.stats.proportion import proportions_ztest as ztest\n",
    "\n",
    "from authentication.authenticator import Authenticator\n",
    "from sheets.sheetmanager import SheetManager"
   ]
  },
  {
   "cell_type": "code",
   "execution_count": 2,
   "metadata": {},
   "outputs": [],
   "source": [
    "keys = 'credentials.json'\n",
    "SCOPES = ['https://www.googleapis.com/auth/drive']\n",
    "\n",
    "data_spreadsheetId = '1ZSZGAtYyGasHIbeCZYBvnN-Xv46hUs6-u5Larbqb0ag'\n",
    "data_data_range = 'Teads Data'\n",
    "\n",
    "codebook_spreadsheetId = '1ZSZGAtYyGasHIbeCZYBvnN-Xv46hUs6-u5Larbqb0ag'\n",
    "codebook_data_range = 'Teads Codebook!A3:J1000'"
   ]
  },
  {
   "cell_type": "code",
   "execution_count": 3,
   "metadata": {},
   "outputs": [],
   "source": [
    "authenticator = Authenticator(keys)\n",
    "creds = authenticator.get_creds(SCOPES)\n",
    "manager = SheetManager(creds)"
   ]
  },
  {
   "cell_type": "code",
   "execution_count": 4,
   "metadata": {},
   "outputs": [],
   "source": [
    "data_df = manager.get_values(spreadsheetId=data_spreadsheetId,\n",
    "                        data_range=data_data_range)\n",
    "\n",
    "codebook_df = manager.get_values(spreadsheetId=codebook_spreadsheetId,\n",
    "                                data_range=codebook_data_range)"
   ]
  },
  {
   "cell_type": "code",
   "execution_count": 17,
   "metadata": {},
   "outputs": [
    {
     "data": {
      "text/html": [
       "<div>\n",
       "<style scoped>\n",
       "    .dataframe tbody tr th:only-of-type {\n",
       "        vertical-align: middle;\n",
       "    }\n",
       "\n",
       "    .dataframe tbody tr th {\n",
       "        vertical-align: top;\n",
       "    }\n",
       "\n",
       "    .dataframe thead th {\n",
       "        text-align: right;\n",
       "    }\n",
       "</style>\n",
       "<table border=\"1\" class=\"dataframe\">\n",
       "  <thead>\n",
       "    <tr style=\"text-align: right;\">\n",
       "      <th></th>\n",
       "      <th>Item name</th>\n",
       "      <th>label</th>\n",
       "      <th>Choice number</th>\n",
       "      <th>Question / choices</th>\n",
       "      <th>Q/A</th>\n",
       "    </tr>\n",
       "  </thead>\n",
       "  <tbody>\n",
       "    <tr>\n",
       "      <th>156</th>\n",
       "      <td>Q5</td>\n",
       "      <td>NaN</td>\n",
       "      <td>NaN</td>\n",
       "      <td>以下のYouTubeチャンネルの中から、聞いたことがあるものを全て選択してください。</td>\n",
       "      <td>Q</td>\n",
       "    </tr>\n",
       "    <tr>\n",
       "      <th>161</th>\n",
       "      <td>Q6</td>\n",
       "      <td>NaN</td>\n",
       "      <td>NaN</td>\n",
       "      <td>次のうち、あなたが好きな広告プラットフォームはどれですか。あてはまるものを全てお選びください。</td>\n",
       "      <td>Q</td>\n",
       "    </tr>\n",
       "    <tr>\n",
       "      <th>176</th>\n",
       "      <td>Q8</td>\n",
       "      <td>NaN</td>\n",
       "      <td>NaN</td>\n",
       "      <td>YouTubeに広告を掲載したいと思わない理由はどれですか。あてはまるものを全てお選びください。</td>\n",
       "      <td>Q</td>\n",
       "    </tr>\n",
       "  </tbody>\n",
       "</table>\n",
       "</div>"
      ],
      "text/plain": [
       "    Item name label  Choice number  \\\n",
       "156        Q5   NaN            NaN   \n",
       "161        Q6   NaN            NaN   \n",
       "176        Q8   NaN            NaN   \n",
       "\n",
       "                                   Question / choices Q/A  \n",
       "156        以下のYouTubeチャンネルの中から、聞いたことがあるものを全て選択してください。   Q  \n",
       "161   次のうち、あなたが好きな広告プラットフォームはどれですか。あてはまるものを全てお選びください。   Q  \n",
       "176  YouTubeに広告を掲載したいと思わない理由はどれですか。あてはまるものを全てお選びください。   Q  "
      ]
     },
     "execution_count": 17,
     "metadata": {},
     "output_type": "execute_result"
    }
   ],
   "source": [
    "cb_df = codebook_df.copy()\n",
    "\n",
    "cb_df.replace('', np.nan, inplace=True)\n",
    "\n",
    "# create new column to indicate question or answer\n",
    "cb_df['Q/A'] = np.nan\n",
    "cb_df.loc[~cb_df['Item name'].isna(), 'Q/A'] = 'Q'\n",
    "cb_df.loc[cb_df['Q/A'] != 'Q', 'Q/A'] = 'A'\n",
    "\n",
    "# we really only need Item name, label, Choice number, Question / choices, Q/A\n",
    "cols = ['Item name', 'label', 'Choice number', 'Question / choices', 'Q/A']\n",
    "cb_df = cb_df[cols]\n",
    "\n",
    "\n",
    "\n",
    "\n",
    "cb_df[~cb_df['Item name'].isna() & cb_df['label'].isna()]"
   ]
  },
  {
   "cell_type": "code",
   "execution_count": null,
   "metadata": {},
   "outputs": [],
   "source": [
    "df = data_df.copy()\n",
    "\n",
    "def recode_SA_A(question_list):\n",
    "    for q in question_list:\n",
    "        df[q+'_r'] = 0\n",
    "        df.loc[((df[q] == 1) | (df[q] == 2)), q+'_r'] = 1\n",
    "\n",
    "questions_to_recode = ['Q2', 'Q3', 'Q4']\n",
    "\n",
    "recode_SA_A(questions_to_recode) \n",
    "        \n",
    "df['group'] = np.nan\n",
    "df.loc[df['CELL'] <= 8, 'group'] = 'EXP'\n",
    "df.loc[df['CELL'] >= 9, 'group'] = 'CON'\n",
    "\n",
    "df = df[[*[q+'_r' for q in questions_to_recode], 'group']]\n",
    "\n",
    "con_base = len(df[df['group'] == 'CON'])\n",
    "exp_base = len(df[df['group'] == 'EXP'])\n",
    "\n",
    "df = df.groupby('group').sum().transpose()\n",
    "df['CON_base'] = con_base\n",
    "df['EXP_base'] = exp_base\n",
    "\n",
    "df['CON_desired_%'] = df['CON']/df['CON_base']\n",
    "df['EXP_desired_%'] = df['EXP']/df['EXP_base']\n",
    "\n",
    "df['abs_lift_%'] = df['EXP_desired_%'] - df['CON_desired_%']\n",
    "\n",
    "df['p-value'] = df.apply(lambda x: ztest(\n",
    "                                        [x['EXP'], x['CON']],\n",
    "                                        [x['EXP_base'], x['CON_base']])[1], axis = 1)\n",
    "\n",
    "df"
   ]
  },
  {
   "cell_type": "code",
   "execution_count": null,
   "metadata": {},
   "outputs": [],
   "source": [
    "df.to_csv(\"result.csv\")"
   ]
  },
  {
   "cell_type": "code",
   "execution_count": null,
   "metadata": {},
   "outputs": [],
   "source": []
  }
 ],
 "metadata": {
  "kernelspec": {
   "display_name": "Python 3",
   "language": "python",
   "name": "python3"
  },
  "language_info": {
   "codemirror_mode": {
    "name": "ipython",
    "version": 3
   },
   "file_extension": ".py",
   "mimetype": "text/x-python",
   "name": "python",
   "nbconvert_exporter": "python",
   "pygments_lexer": "ipython3",
   "version": "3.7.3"
  }
 },
 "nbformat": 4,
 "nbformat_minor": 2
}
