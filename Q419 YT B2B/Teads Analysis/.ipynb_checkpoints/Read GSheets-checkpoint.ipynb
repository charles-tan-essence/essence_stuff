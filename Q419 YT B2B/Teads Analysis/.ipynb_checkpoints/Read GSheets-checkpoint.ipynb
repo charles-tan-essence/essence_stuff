{
 "cells": [
  {
   "cell_type": "code",
   "execution_count": 1,
   "metadata": {},
   "outputs": [],
   "source": [
    "import numpy as np\n",
    "import pandas as pd\n",
    "from statsmodels.stats.proportion import proportions_ztest as ztest\n",
    "\n",
    "from authentication.authenticator import Authenticator\n",
    "from sheets.sheetmanager import SheetManager"
   ]
  },
  {
   "cell_type": "code",
   "execution_count": 2,
   "metadata": {},
   "outputs": [],
   "source": [
    "keys = 'credentials.json'\n",
    "SCOPES = ['https://www.googleapis.com/auth/drive']\n",
    "\n",
    "data_spreadsheetId = '1ZSZGAtYyGasHIbeCZYBvnN-Xv46hUs6-u5Larbqb0ag'\n",
    "data_data_range = 'Teads Data'"
   ]
  },
  {
   "cell_type": "code",
   "execution_count": 3,
   "metadata": {},
   "outputs": [],
   "source": [
    "authenticator = Authenticator(keys)\n",
    "creds = authenticator.get_creds(SCOPES)\n",
    "manager = SheetManager(creds)"
   ]
  },
  {
   "cell_type": "code",
   "execution_count": 4,
   "metadata": {},
   "outputs": [],
   "source": [
    "data_df = manager.get_values(spreadsheetId=data_spreadsheetId,\n",
    "                        data_range=data_data_range)\n",
    "\n",
    "codebook_df = manager"
   ]
  },
  {
   "cell_type": "code",
   "execution_count": null,
   "metadata": {},
   "outputs": [],
   "source": [
    "df = data_df.copy()\n",
    "\n"
   ]
  },
  {
   "cell_type": "code",
   "execution_count": 5,
   "metadata": {},
   "outputs": [
    {
     "data": {
      "text/html": [
       "<div>\n",
       "<style scoped>\n",
       "    .dataframe tbody tr th:only-of-type {\n",
       "        vertical-align: middle;\n",
       "    }\n",
       "\n",
       "    .dataframe tbody tr th {\n",
       "        vertical-align: top;\n",
       "    }\n",
       "\n",
       "    .dataframe thead th {\n",
       "        text-align: right;\n",
       "    }\n",
       "</style>\n",
       "<table border=\"1\" class=\"dataframe\">\n",
       "  <thead>\n",
       "    <tr style=\"text-align: right;\">\n",
       "      <th>group</th>\n",
       "      <th>CON</th>\n",
       "      <th>EXP</th>\n",
       "      <th>CON_base</th>\n",
       "      <th>EXP_base</th>\n",
       "      <th>CON_desired_%</th>\n",
       "      <th>EXP_desired_%</th>\n",
       "      <th>abs_lift_%</th>\n",
       "      <th>p-value</th>\n",
       "    </tr>\n",
       "  </thead>\n",
       "  <tbody>\n",
       "    <tr>\n",
       "      <th>Q2_r</th>\n",
       "      <td>73</td>\n",
       "      <td>75</td>\n",
       "      <td>362</td>\n",
       "      <td>362</td>\n",
       "      <td>0.201657</td>\n",
       "      <td>0.207182</td>\n",
       "      <td>0.005525</td>\n",
       "      <td>0.853768</td>\n",
       "    </tr>\n",
       "    <tr>\n",
       "      <th>Q3_r</th>\n",
       "      <td>58</td>\n",
       "      <td>64</td>\n",
       "      <td>362</td>\n",
       "      <td>362</td>\n",
       "      <td>0.160221</td>\n",
       "      <td>0.176796</td>\n",
       "      <td>0.016575</td>\n",
       "      <td>0.551362</td>\n",
       "    </tr>\n",
       "    <tr>\n",
       "      <th>Q4_r</th>\n",
       "      <td>94</td>\n",
       "      <td>100</td>\n",
       "      <td>362</td>\n",
       "      <td>362</td>\n",
       "      <td>0.259669</td>\n",
       "      <td>0.276243</td>\n",
       "      <td>0.016575</td>\n",
       "      <td>0.614627</td>\n",
       "    </tr>\n",
       "  </tbody>\n",
       "</table>\n",
       "</div>"
      ],
      "text/plain": [
       "group  CON  EXP  CON_base  EXP_base  CON_desired_%  EXP_desired_%  abs_lift_%  \\\n",
       "Q2_r    73   75       362       362       0.201657       0.207182    0.005525   \n",
       "Q3_r    58   64       362       362       0.160221       0.176796    0.016575   \n",
       "Q4_r    94  100       362       362       0.259669       0.276243    0.016575   \n",
       "\n",
       "group   p-value  \n",
       "Q2_r   0.853768  \n",
       "Q3_r   0.551362  \n",
       "Q4_r   0.614627  "
      ]
     },
     "execution_count": 5,
     "metadata": {},
     "output_type": "execute_result"
    }
   ],
   "source": [
    "df = data_df.copy()\n",
    "\n",
    "def recode_SA_A(question_list):\n",
    "    for q in question_list:\n",
    "        df[q+'_r'] = 0\n",
    "        df.loc[((df[q] == 1) | (df[q] == 2)), q+'_r'] = 1\n",
    "\n",
    "questions_to_recode = ['Q2', 'Q3', 'Q4']\n",
    "\n",
    "recode_SA_A(questions_to_recode) \n",
    "        \n",
    "df['group'] = np.nan\n",
    "df.loc[df['CELL'] <= 8, 'group'] = 'EXP'\n",
    "df.loc[df['CELL'] >= 9, 'group'] = 'CON'\n",
    "\n",
    "df = df[[*[q+'_r' for q in questions_to_recode], 'group']]\n",
    "\n",
    "con_base = len(df[df['group'] == 'CON'])\n",
    "exp_base = len(df[df['group'] == 'EXP'])\n",
    "\n",
    "df = df.groupby('group').sum().transpose()\n",
    "df['CON_base'] = con_base\n",
    "df['EXP_base'] = exp_base\n",
    "\n",
    "df['CON_desired_%'] = df['CON']/df['CON_base']\n",
    "df['EXP_desired_%'] = df['EXP']/df['EXP_base']\n",
    "\n",
    "df['abs_lift_%'] = df['EXP_desired_%'] - df['CON_desired_%']\n",
    "\n",
    "df['p-value'] = df.apply(lambda x: ztest(\n",
    "                                        [x['EXP'], x['CON']],\n",
    "                                        [x['EXP_base'], x['CON_base']])[1], axis = 1)\n",
    "\n",
    "df"
   ]
  },
  {
   "cell_type": "code",
   "execution_count": 6,
   "metadata": {},
   "outputs": [],
   "source": [
    "df.to_csv(\"result.csv\")"
   ]
  },
  {
   "cell_type": "code",
   "execution_count": null,
   "metadata": {},
   "outputs": [],
   "source": []
  }
 ],
 "metadata": {
  "kernelspec": {
   "display_name": "Python 3",
   "language": "python",
   "name": "python3"
  },
  "language_info": {
   "codemirror_mode": {
    "name": "ipython",
    "version": 3
   },
   "file_extension": ".py",
   "mimetype": "text/x-python",
   "name": "python",
   "nbconvert_exporter": "python",
   "pygments_lexer": "ipython3",
   "version": "3.7.3"
  }
 },
 "nbformat": 4,
 "nbformat_minor": 2
}
