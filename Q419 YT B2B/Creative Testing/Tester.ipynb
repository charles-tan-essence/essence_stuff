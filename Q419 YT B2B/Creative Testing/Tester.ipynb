{
 "cells": [
  {
   "cell_type": "markdown",
   "metadata": {},
   "source": [
    "# YouTube Partner Promo B2B Q4 2019\n",
    "\n",
    "## Creative Testing Analysis\n",
    "\n",
    "### Ad Experiments Format"
   ]
  },
  {
   "cell_type": "markdown",
   "metadata": {},
   "source": [
    "#### Import libraries"
   ]
  },
  {
   "cell_type": "code",
   "execution_count": 1,
   "metadata": {},
   "outputs": [],
   "source": [
    "import numpy as np\n",
    "import pandas as pd\n",
    "import seaborn as sns\n",
    "import matplotlib.pyplot as plt\n",
    "from statsmodels.stats.proportion import proportions_ztest as ztest\n",
    "\n",
    "from authentication.authenticator import Authenticator\n",
    "from sheets.sheetmanager import SheetManager"
   ]
  },
  {
   "cell_type": "markdown",
   "metadata": {},
   "source": [
    "#### Initialize necessary strings"
   ]
  },
  {
   "cell_type": "code",
   "execution_count": 2,
   "metadata": {},
   "outputs": [],
   "source": [
    "keys = 'credentials.json'\n",
    "SCOPES = ['https://www.googleapis.com/auth/drive']\n",
    "\n",
    "spreadsheetId = '1Pk29LAYE-KswZ7cl5dmtE3feJUyH-GAPG3vUHsyKGmc'\n",
    "ranges = 'Testing'"
   ]
  },
  {
   "cell_type": "markdown",
   "metadata": {},
   "source": [
    "#### Authenticate and Initialize Manager to work with Google Sheets"
   ]
  },
  {
   "cell_type": "code",
   "execution_count": 3,
   "metadata": {},
   "outputs": [],
   "source": [
    "authenticator = Authenticator(keys)\n",
    "creds = authenticator.get_creds(SCOPES)\n",
    "manager = SheetManager(creds)"
   ]
  },
  {
   "cell_type": "code",
   "execution_count": 4,
   "metadata": {},
   "outputs": [
    {
     "data": {
      "text/plain": [
       "{'spreadsheetId': '1Pk29LAYE-KswZ7cl5dmtE3feJUyH-GAPG3vUHsyKGmc',\n",
       " 'properties': {'title': 'TEST',\n",
       "  'locale': 'en_US',\n",
       "  'autoRecalc': 'ON_CHANGE',\n",
       "  'timeZone': 'Asia/Singapore',\n",
       "  'defaultFormat': {'backgroundColor': {'red': 1, 'green': 1, 'blue': 1},\n",
       "   'padding': {'top': 2, 'right': 3, 'bottom': 2, 'left': 3},\n",
       "   'verticalAlignment': 'BOTTOM',\n",
       "   'wrapStrategy': 'OVERFLOW_CELL',\n",
       "   'textFormat': {'foregroundColor': {},\n",
       "    'fontFamily': 'arial,sans,sans-serif',\n",
       "    'fontSize': 10,\n",
       "    'bold': False,\n",
       "    'italic': False,\n",
       "    'strikethrough': False,\n",
       "    'underline': False}},\n",
       "  'spreadsheetTheme': {'primaryFontFamily': 'Arial',\n",
       "   'themeColors': [{'colorType': 'ACCENT6',\n",
       "     'color': {'rgbColor': {'red': 0.27450982,\n",
       "       'green': 0.7411765,\n",
       "       'blue': 0.7764706}}},\n",
       "    {'colorType': 'LINK',\n",
       "     'color': {'rgbColor': {'red': 0.06666667,\n",
       "       'green': 0.33333334,\n",
       "       'blue': 0.8}}},\n",
       "    {'colorType': 'ACCENT1',\n",
       "     'color': {'rgbColor': {'red': 0.25882354,\n",
       "       'green': 0.52156866,\n",
       "       'blue': 0.95686275}}},\n",
       "    {'colorType': 'ACCENT4',\n",
       "     'color': {'rgbColor': {'red': 0.20392157,\n",
       "       'green': 0.65882355,\n",
       "       'blue': 0.3254902}}},\n",
       "    {'colorType': 'TEXT', 'color': {'rgbColor': {}}},\n",
       "    {'colorType': 'BACKGROUND',\n",
       "     'color': {'rgbColor': {'red': 1, 'green': 1, 'blue': 1}}},\n",
       "    {'colorType': 'ACCENT3',\n",
       "     'color': {'rgbColor': {'red': 0.9843137,\n",
       "       'green': 0.7372549,\n",
       "       'blue': 0.015686275}}},\n",
       "    {'colorType': 'ACCENT2',\n",
       "     'color': {'rgbColor': {'red': 0.91764706,\n",
       "       'green': 0.2627451,\n",
       "       'blue': 0.20784314}}},\n",
       "    {'colorType': 'ACCENT5',\n",
       "     'color': {'rgbColor': {'red': 1,\n",
       "       'green': 0.42745098,\n",
       "       'blue': 0.003921569}}}]}},\n",
       " 'sheets': [{'properties': {'sheetId': 0,\n",
       "    'title': 'Testing',\n",
       "    'index': 0,\n",
       "    'sheetType': 'GRID',\n",
       "    'gridProperties': {'rowCount': 1000, 'columnCount': 49}}},\n",
       "  {'properties': {'sheetId': 934580344,\n",
       "    'title': 'Sheet2',\n",
       "    'index': 1,\n",
       "    'sheetType': 'GRID',\n",
       "    'gridProperties': {'rowCount': 1000, 'columnCount': 26}}}],\n",
       " 'spreadsheetUrl': 'https://docs.google.com/a/essenceglobal.com/spreadsheets/d/1Pk29LAYE-KswZ7cl5dmtE3feJUyH-GAPG3vUHsyKGmc/edit'}"
      ]
     },
     "execution_count": 4,
     "metadata": {},
     "output_type": "execute_result"
    }
   ],
   "source": [
    "manager.get(spreadsheetId=spreadsheetId)\n"
   ]
  },
  {
   "cell_type": "code",
   "execution_count": 5,
   "metadata": {},
   "outputs": [
    {
     "data": {
      "text/plain": [
       "[{'properties': {'sheetId': 0,\n",
       "   'title': 'Testing',\n",
       "   'index': 0,\n",
       "   'sheetType': 'GRID',\n",
       "   'gridProperties': {'rowCount': 1000, 'columnCount': 49}}},\n",
       " {'properties': {'sheetId': 934580344,\n",
       "   'title': 'Sheet2',\n",
       "   'index': 1,\n",
       "   'sheetType': 'GRID',\n",
       "   'gridProperties': {'rowCount': 1000, 'columnCount': 26}}}]"
      ]
     },
     "execution_count": 5,
     "metadata": {},
     "output_type": "execute_result"
    }
   ],
   "source": [
    "sheet_data = manager.get(spreadsheetId)\n",
    "sheet_data['sheets']"
   ]
  },
  {
   "cell_type": "code",
   "execution_count": 6,
   "metadata": {},
   "outputs": [
    {
     "data": {
      "text/plain": [
       "['Testing', 'Sheet2']"
      ]
     },
     "execution_count": 6,
     "metadata": {},
     "output_type": "execute_result"
    }
   ],
   "source": [
    "manager.get_existing_sheets_names(spreadsheetId)"
   ]
  },
  {
   "cell_type": "code",
   "execution_count": 7,
   "metadata": {},
   "outputs": [],
   "source": [
    "manager.add_sheet(spreadsheetId=spreadsheetId, sheet_name='testtest')"
   ]
  }
 ],
 "metadata": {
  "kernelspec": {
   "display_name": "Python 3",
   "language": "python",
   "name": "python3"
  },
  "language_info": {
   "codemirror_mode": {
    "name": "ipython",
    "version": 3
   },
   "file_extension": ".py",
   "mimetype": "text/x-python",
   "name": "python",
   "nbconvert_exporter": "python",
   "pygments_lexer": "ipython3",
   "version": "3.7.3"
  }
 },
 "nbformat": 4,
 "nbformat_minor": 2
}
